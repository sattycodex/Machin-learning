{
 "cells": [
  {
   "cell_type": "code",
   "execution_count": 1,
   "id": "03450a84",
   "metadata": {},
   "outputs": [],
   "source": [
    "import numpy as np"
   ]
  },
  {
   "cell_type": "markdown",
   "id": "81cd3fce",
   "metadata": {},
   "source": [
    "# create numpy "
   ]
  },
  {
   "cell_type": "code",
   "execution_count": 2,
   "id": "548a3862",
   "metadata": {},
   "outputs": [
    {
     "data": {
      "text/plain": [
       "array([1, 2, 3, 5, 6])"
      ]
     },
     "execution_count": 2,
     "metadata": {},
     "output_type": "execute_result"
    }
   ],
   "source": [
    "#1-D numpy array\n",
    "arr_1d=np.array([1,2,3,5,6]);\n",
    "arr_1d"
   ]
  },
  {
   "cell_type": "code",
   "execution_count": 3,
   "id": "4d02e851",
   "metadata": {},
   "outputs": [
    {
     "data": {
      "text/plain": [
       "array([[1, 2, 3],\n",
       "       [3, 2, 1],\n",
       "       [9, 8, 7]])"
      ]
     },
     "execution_count": 3,
     "metadata": {},
     "output_type": "execute_result"
    }
   ],
   "source": [
    "#2-d numpy array\n",
    "arr_2d=np.array([[1,2,3],[3,2,1],[9,8,7]]);\n",
    "arr_2d"
   ]
  },
  {
   "cell_type": "code",
   "execution_count": 4,
   "id": "00c55d9e",
   "metadata": {},
   "outputs": [
    {
     "data": {
      "text/plain": [
       "array([[[1, 2, 3],\n",
       "        [3, 2, 1]],\n",
       "\n",
       "       [[3, 2, 1],\n",
       "        [9, 8, 7]]])"
      ]
     },
     "execution_count": 4,
     "metadata": {},
     "output_type": "execute_result"
    }
   ],
   "source": [
    "#3-d numpy array\n",
    "arr_3d=np.array([[[1,2,3],[3,2,1]],[[3,2,1],[9,8,7]]]);\n",
    "arr_3d"
   ]
  },
  {
   "cell_type": "code",
   "execution_count": 5,
   "id": "8fa90d41",
   "metadata": {},
   "outputs": [
    {
     "data": {
      "text/plain": [
       "((5,), (3, 3), (2, 2, 3))"
      ]
     },
     "execution_count": 5,
     "metadata": {},
     "output_type": "execute_result"
    }
   ],
   "source": [
    "#Normal attributes on numpy array\n",
    "arr_1d.shape,arr_2d.shape,arr_3d.shape"
   ]
  },
  {
   "cell_type": "code",
   "execution_count": 7,
   "id": "9043bf7e",
   "metadata": {},
   "outputs": [
    {
     "data": {
      "text/plain": [
       "(5, 9, 12)"
      ]
     },
     "execution_count": 7,
     "metadata": {},
     "output_type": "execute_result"
    }
   ],
   "source": [
    "arr_1d.size ,arr_2d.size,arr_3d.size #no. of elements"
   ]
  },
  {
   "cell_type": "code",
   "execution_count": 8,
   "id": "aab92403",
   "metadata": {},
   "outputs": [
    {
     "data": {
      "text/plain": [
       "(1, 2, 3)"
      ]
     },
     "execution_count": 8,
     "metadata": {},
     "output_type": "execute_result"
    }
   ],
   "source": [
    "arr_1d.ndim,arr_2d.ndim,arr_3d.ndim   #dimension"
   ]
  },
  {
   "cell_type": "code",
   "execution_count": 9,
   "id": "d2d9f193",
   "metadata": {},
   "outputs": [
    {
     "data": {
      "text/plain": [
       "4"
      ]
     },
     "execution_count": 9,
     "metadata": {},
     "output_type": "execute_result"
    }
   ],
   "source": [
    "arr_1d.itemsize  #size of each data"
   ]
  },
  {
   "cell_type": "code",
   "execution_count": 10,
   "id": "83a397aa",
   "metadata": {},
   "outputs": [
    {
     "data": {
      "text/plain": [
       "4"
      ]
     },
     "execution_count": 10,
     "metadata": {},
     "output_type": "execute_result"
    }
   ],
   "source": [
    "arr_2d.itemsize"
   ]
  },
  {
   "cell_type": "markdown",
   "id": "6636db4d",
   "metadata": {},
   "source": [
    "# Some operations"
   ]
  },
  {
   "cell_type": "code",
   "execution_count": 71,
   "id": "ad1fe17f",
   "metadata": {},
   "outputs": [
    {
     "data": {
      "text/plain": [
       "(array([[1, 2, 3],\n",
       "        [6, 7, 8]]),\n",
       " array([[5, 6, 7],\n",
       "        [9, 8, 7]]))"
      ]
     },
     "execution_count": 71,
     "metadata": {},
     "output_type": "execute_result"
    }
   ],
   "source": [
    "a=np.array([[1,2,3],[6,7,8]])\n",
    "b=np.array([[5,6,7],[9,8,7]])\n",
    "\n",
    "a, b"
   ]
  },
  {
   "cell_type": "code",
   "execution_count": 72,
   "id": "eabce871",
   "metadata": {},
   "outputs": [
    {
     "data": {
      "text/plain": [
       "array([[ 6,  8, 10],\n",
       "       [15, 15, 15]])"
      ]
     },
     "execution_count": 72,
     "metadata": {},
     "output_type": "execute_result"
    }
   ],
   "source": [
    "#add \n",
    "a+b"
   ]
  },
  {
   "cell_type": "code",
   "execution_count": 73,
   "id": "65cbb19b",
   "metadata": {},
   "outputs": [
    {
     "data": {
      "text/plain": [
       "array([[ 6,  8, 10],\n",
       "       [15, 15, 15]])"
      ]
     },
     "execution_count": 73,
     "metadata": {},
     "output_type": "execute_result"
    }
   ],
   "source": [
    "np.add(a,b)"
   ]
  },
  {
   "cell_type": "code",
   "execution_count": 74,
   "id": "49f2b122",
   "metadata": {},
   "outputs": [
    {
     "data": {
      "text/plain": [
       "array([[-4, -4, -4],\n",
       "       [-3, -1,  1]])"
      ]
     },
     "execution_count": 74,
     "metadata": {},
     "output_type": "execute_result"
    }
   ],
   "source": [
    "#subtract\n",
    "a-b"
   ]
  },
  {
   "cell_type": "code",
   "execution_count": 75,
   "id": "bffe7533",
   "metadata": {},
   "outputs": [
    {
     "data": {
      "text/plain": [
       "array([[-4, -4, -4],\n",
       "       [-3, -1,  1]])"
      ]
     },
     "execution_count": 75,
     "metadata": {},
     "output_type": "execute_result"
    }
   ],
   "source": [
    "np.subtract(a,b)"
   ]
  },
  {
   "cell_type": "code",
   "execution_count": 76,
   "id": "b449b62c",
   "metadata": {},
   "outputs": [
    {
     "data": {
      "text/plain": [
       "array([[ 5, 12, 21],\n",
       "       [54, 56, 56]])"
      ]
     },
     "execution_count": 76,
     "metadata": {},
     "output_type": "execute_result"
    }
   ],
   "source": [
    "#multiply(element by element)\n",
    "a*b"
   ]
  },
  {
   "cell_type": "code",
   "execution_count": 77,
   "id": "e52123b5",
   "metadata": {},
   "outputs": [
    {
     "data": {
      "text/plain": [
       "array([[ 5, 12, 21],\n",
       "       [54, 56, 56]])"
      ]
     },
     "execution_count": 77,
     "metadata": {},
     "output_type": "execute_result"
    }
   ],
   "source": [
    "np.multiply(a,b)"
   ]
  },
  {
   "cell_type": "code",
   "execution_count": 78,
   "id": "4d8863ac",
   "metadata": {},
   "outputs": [
    {
     "data": {
      "text/plain": [
       "array([[0.2       , 0.33333333, 0.42857143],\n",
       "       [0.66666667, 0.875     , 1.14285714]])"
      ]
     },
     "execution_count": 78,
     "metadata": {},
     "output_type": "execute_result"
    }
   ],
   "source": [
    "#divide\n",
    "a/b"
   ]
  },
  {
   "cell_type": "code",
   "execution_count": 79,
   "id": "07062d37",
   "metadata": {},
   "outputs": [
    {
     "data": {
      "text/plain": [
       "array([[0.2       , 0.33333333, 0.42857143],\n",
       "       [0.66666667, 0.875     , 1.14285714]])"
      ]
     },
     "execution_count": 79,
     "metadata": {},
     "output_type": "execute_result"
    }
   ],
   "source": [
    "np.divide(a,b)"
   ]
  },
  {
   "cell_type": "code",
   "execution_count": 80,
   "id": "1d93a8f1",
   "metadata": {},
   "outputs": [],
   "source": [
    "#multiply as we did in matrix\n",
    "b=b.reshape(3,2)"
   ]
  },
  {
   "cell_type": "code",
   "execution_count": 81,
   "id": "1a8c1bb9",
   "metadata": {},
   "outputs": [
    {
     "data": {
      "text/plain": [
       "((2, 3), (3, 2))"
      ]
     },
     "execution_count": 81,
     "metadata": {},
     "output_type": "execute_result"
    }
   ],
   "source": [
    "a.shape ,b.shape"
   ]
  },
  {
   "cell_type": "code",
   "execution_count": 82,
   "id": "1da4d0b8",
   "metadata": {},
   "outputs": [
    {
     "data": {
      "text/plain": [
       "array([[ 43,  45],\n",
       "       [143, 155]])"
      ]
     },
     "execution_count": 82,
     "metadata": {},
     "output_type": "execute_result"
    }
   ],
   "source": [
    "a@b\n"
   ]
  },
  {
   "cell_type": "code",
   "execution_count": 83,
   "id": "7fb06465",
   "metadata": {},
   "outputs": [
    {
     "data": {
      "text/plain": [
       "array([[ 43,  45],\n",
       "       [143, 155]])"
      ]
     },
     "execution_count": 83,
     "metadata": {},
     "output_type": "execute_result"
    }
   ],
   "source": [
    "a.dot(b)"
   ]
  },
  {
   "cell_type": "code",
   "execution_count": 89,
   "id": "35c8547e",
   "metadata": {},
   "outputs": [
    {
     "data": {
      "text/plain": [
       "(8, array([3, 8]), array([6, 7, 8]))"
      ]
     },
     "execution_count": 89,
     "metadata": {},
     "output_type": "execute_result"
    }
   ],
   "source": [
    "#max elements  ,max elements row wise , max elements column wise\n",
    "a.max() , a.max(axis=1) ,a.max(axis=0)"
   ]
  },
  {
   "cell_type": "code",
   "execution_count": 90,
   "id": "86355eae",
   "metadata": {},
   "outputs": [
    {
     "data": {
      "text/plain": [
       "(1, array([1, 6]), array([1, 2, 3]))"
      ]
     },
     "execution_count": 90,
     "metadata": {},
     "output_type": "execute_result"
    }
   ],
   "source": [
    "#min elements  ,min elements row wise , min elements column wise\n",
    "a.min() , a.min(axis=1) ,a.min(axis=0)"
   ]
  },
  {
   "cell_type": "code",
   "execution_count": 91,
   "id": "c81412e3",
   "metadata": {},
   "outputs": [
    {
     "data": {
      "text/plain": [
       "4.5"
      ]
     },
     "execution_count": 91,
     "metadata": {},
     "output_type": "execute_result"
    }
   ],
   "source": [
    "np.mean(a)"
   ]
  },
  {
   "cell_type": "code",
   "execution_count": 94,
   "id": "df24a92f",
   "metadata": {},
   "outputs": [
    {
     "data": {
      "text/plain": [
       "4.5"
      ]
     },
     "execution_count": 94,
     "metadata": {},
     "output_type": "execute_result"
    }
   ],
   "source": [
    "np.median(a)"
   ]
  },
  {
   "cell_type": "code",
   "execution_count": 95,
   "id": "69e8d88f",
   "metadata": {},
   "outputs": [
    {
     "data": {
      "text/plain": [
       "2.6299556396765835"
      ]
     },
     "execution_count": 95,
     "metadata": {},
     "output_type": "execute_result"
    }
   ],
   "source": [
    "np.std(a)"
   ]
  },
  {
   "cell_type": "code",
   "execution_count": 96,
   "id": "7a2ca0b7",
   "metadata": {},
   "outputs": [
    {
     "data": {
      "text/plain": [
       "6.916666666666667"
      ]
     },
     "execution_count": 96,
     "metadata": {},
     "output_type": "execute_result"
    }
   ],
   "source": [
    "np.var(a)"
   ]
  },
  {
   "cell_type": "code",
   "execution_count": 105,
   "id": "fc1ab166",
   "metadata": {},
   "outputs": [
    {
     "data": {
      "text/plain": [
       "(1, 2.25, 6.75, 8)"
      ]
     },
     "execution_count": 105,
     "metadata": {},
     "output_type": "execute_result"
    }
   ],
   "source": [
    "np.quantile(a,0),np.quantile(a,0.25),np.quantile(a,0.75),np.quantile(a,1)\n"
   ]
  },
  {
   "cell_type": "code",
   "execution_count": 107,
   "id": "b9876788",
   "metadata": {},
   "outputs": [
    {
     "data": {
      "image/png": "[encoded data removed]",
      "text/plain": [
       "<Figure size 432x288 with 1 Axes>"
      ]
     },
     "metadata": {
      "needs_background": "light"
     },
     "output_type": "display_data"
    }
   ],
   "source": [
    "plt.boxplot(a)\n",
    "plt.show()"
   ]
  },
  {
   "cell_type": "markdown",
   "id": "f4c10e70",
   "metadata": {},
   "source": [
    "# Some trignometric functions"
   ]
  },
  {
   "cell_type": "code",
   "execution_count": 41,
   "id": "e1e80a62",
   "metadata": {},
   "outputs": [
    {
     "data": {
      "image/png": "[encoded data removed]",
      "text/plain": [
       "<Figure size 432x288 with 1 Axes>"
      ]
     },
     "metadata": {
      "needs_background": "light"
     },
     "output_type": "display_data"
    }
   ],
   "source": [
    "# sin ,cos,tan\n",
    "import matplotlib.pyplot as plt\n",
    "x=np.arange(0,2*np.pi,0.01)\n",
    "y=np.sin(x)\n",
    "plt.plot(x,y)\n",
    "plt.grid()\n",
    "plt.title('sin curve')\n",
    "plt.show()"
   ]
  },
  {
   "cell_type": "code",
   "execution_count": 42,
   "id": "9e626d3b",
   "metadata": {},
   "outputs": [
    {
     "data": {
      "image/png": "[encoded data removed]",
      "text/plain": [
       "<Figure size 432x288 with 1 Axes>"
      ]
     },
     "metadata": {
      "needs_background": "light"
     },
     "output_type": "display_data"
    }
   ],
   "source": [
    "x=np.arange(0,2*np.pi,0.01)\n",
    "y=np.cos(x)\n",
    "plt.plot(x,y)\n",
    "plt.grid()\n",
    "plt.title('cos curve')\n",
    "plt.show()"
   ]
  },
  {
   "cell_type": "code",
   "execution_count": 43,
   "id": "cc1b4958",
   "metadata": {},
   "outputs": [
    {
     "data": {
      "image/png": "[encoded data removed]",
      "text/plain": [
       "<Figure size 432x288 with 1 Axes>"
      ]
     },
     "metadata": {
      "needs_background": "light"
     },
     "output_type": "display_data"
    }
   ],
   "source": [
    "x=np.arange(0,2*np.pi,0.01)\n",
    "y=np.tan(x)\n",
    "plt.plot(x,y)\n",
    "plt.grid()\n",
    "plt.title('tan curve')\n",
    "plt.show()"
   ]
  },
  {
   "cell_type": "markdown",
   "id": "5296a5c7",
   "metadata": {},
   "source": [
    "# linear algebra opertaion"
   ]
  },
  {
   "cell_type": "code",
   "execution_count": 52,
   "id": "2e7788e2",
   "metadata": {},
   "outputs": [
    {
     "data": {
      "text/plain": [
       "array([[1, 2, 3],\n",
       "       [6, 7, 8],\n",
       "       [6, 5, 3]])"
      ]
     },
     "execution_count": 52,
     "metadata": {},
     "output_type": "execute_result"
    }
   ],
   "source": [
    "from numpy import linalg\n",
    "#inverse of a matrix\n",
    "a=np.array([[1,2,3],[6,7,8],[6,5,3]])\n",
    "a"
   ]
  },
  {
   "cell_type": "code",
   "execution_count": 53,
   "id": "b4f285a2",
   "metadata": {},
   "outputs": [
    {
     "data": {
      "text/plain": [
       "array([[-3.8,  1.8, -1. ],\n",
       "       [ 6. , -3. ,  2. ],\n",
       "       [-2.4,  1.4, -1. ]])"
      ]
     },
     "execution_count": 53,
     "metadata": {},
     "output_type": "execute_result"
    }
   ],
   "source": [
    "linalg.inv(a)"
   ]
  },
  {
   "cell_type": "code",
   "execution_count": 55,
   "id": "be17a311",
   "metadata": {},
   "outputs": [
    {
     "data": {
      "text/plain": [
       "5.0000000000000036"
      ]
     },
     "execution_count": 55,
     "metadata": {},
     "output_type": "execute_result"
    }
   ],
   "source": [
    "#determinant value os a matrix\n",
    "linalg.det(a)"
   ]
  },
  {
   "cell_type": "code",
   "execution_count": 58,
   "id": "44d6288a",
   "metadata": {},
   "outputs": [
    {
     "data": {
      "text/plain": [
       "(array([[2, 3],\n",
       "        [3, 5]]),\n",
       " array([ 8, 12]))"
      ]
     },
     "execution_count": 58,
     "metadata": {},
     "output_type": "execute_result"
    }
   ],
   "source": [
    "#solve two linear equation\n",
    "#2x+3y=8\n",
    "#3x+5y=12\n",
    "\n",
    "a=np.array([[2,3],[3,5]])\n",
    "b=np.array([8,12])\n",
    "a,b"
   ]
  },
  {
   "cell_type": "code",
   "execution_count": 59,
   "id": "09ea26d9",
   "metadata": {},
   "outputs": [
    {
     "data": {
      "text/plain": [
       "array([ 4., -0.])"
      ]
     },
     "execution_count": 59,
     "metadata": {},
     "output_type": "execute_result"
    }
   ],
   "source": [
    "linalg.solve(a,b)  #x=4,y=0"
   ]
  },
  {
   "cell_type": "code",
   "execution_count": 60,
   "id": "8911f899",
   "metadata": {},
   "outputs": [
    {
     "data": {
      "text/plain": [
       "array([[2, 3],\n",
       "       [3, 5]])"
      ]
     },
     "execution_count": 60,
     "metadata": {},
     "output_type": "execute_result"
    }
   ],
   "source": [
    "#power of matrix\n"
   ]
  },
  {
   "cell_type": "code",
   "execution_count": 61,
   "id": "edbf61ba",
   "metadata": {},
   "outputs": [
    {
     "data": {
      "text/plain": [
       "array([[1, 2, 3],\n",
       "       [6, 7, 8],\n",
       "       [6, 5, 3]])"
      ]
     },
     "execution_count": 61,
     "metadata": {},
     "output_type": "execute_result"
    }
   ],
   "source": [
    "a=np.array([[1,2,3],[6,7,8],[6,5,3]])\n",
    "a"
   ]
  },
  {
   "cell_type": "code",
   "execution_count": 63,
   "id": "36dff360",
   "metadata": {},
   "outputs": [
    {
     "data": {
      "text/plain": [
       "array([[ 385,  419,  425],\n",
       "       [1290, 1389, 1390],\n",
       "       [ 828,  877,  859]])"
      ]
     },
     "execution_count": 63,
     "metadata": {},
     "output_type": "execute_result"
    }
   ],
   "source": [
    "#a^3\n",
    "linalg.matrix_power(a,3)"
   ]
  },
  {
   "cell_type": "code",
   "execution_count": 64,
   "id": "b3e976c8",
   "metadata": {},
   "outputs": [
    {
     "data": {
      "text/plain": [
       "3"
      ]
     },
     "execution_count": 64,
     "metadata": {},
     "output_type": "execute_result"
    }
   ],
   "source": [
    "#rank of matrix a\n",
    "linalg.matrix_rank(a)"
   ]
  },
  {
   "cell_type": "code",
   "execution_count": 66,
   "id": "c5748699",
   "metadata": {},
   "outputs": [
    {
     "data": {
      "text/plain": [
       "(array([13.84333175, -0.13327574, -2.71005601]),\n",
       " array([[-0.24813237, -0.48432136, -0.44110973],\n",
       "        [-0.82017951,  0.80128994, -0.3924062 ],\n",
       "        [-0.51549578, -0.35123675,  0.80711807]]))"
      ]
     },
     "execution_count": 66,
     "metadata": {},
     "output_type": "execute_result"
    }
   ],
   "source": [
    "#some other opeations on matrix\n",
    "linalg.eig(a)"
   ]
  },
  {
   "cell_type": "code",
   "execution_count": 67,
   "id": "be22c0ee",
   "metadata": {},
   "outputs": [
    {
     "data": {
      "text/plain": [
       "array([13.84333175, -0.13327574, -2.71005601])"
      ]
     },
     "execution_count": 67,
     "metadata": {},
     "output_type": "execute_result"
    }
   ],
   "source": [
    "linalg.eigvals(a)"
   ]
  },
  {
   "cell_type": "code",
   "execution_count": 68,
   "id": "a6ff6061",
   "metadata": {},
   "outputs": [
    {
     "data": {
      "text/plain": [
       "array([-4.35738213,  0.06000915, 15.29737297])"
      ]
     },
     "execution_count": 68,
     "metadata": {},
     "output_type": "execute_result"
    }
   ],
   "source": [
    "linalg.eigvalsh(a)"
   ]
  },
  {
   "cell_type": "code",
   "execution_count": 69,
   "id": "625f3e40",
   "metadata": {},
   "outputs": [
    {
     "data": {
      "text/plain": [
       "(array([-4.35738213,  0.06000915, 15.29737297]),\n",
       " array([[-0.82127009,  0.26132161, -0.50717497],\n",
       "        [ 0.19836348, -0.70269905, -0.68327591],\n",
       "        [ 0.53494613,  0.66175906, -0.52526905]]))"
      ]
     },
     "execution_count": 69,
     "metadata": {},
     "output_type": "execute_result"
    }
   ],
   "source": [
    "linalg.eigh(a)"
   ]
  },
  {
   "cell_type": "markdown",
   "id": "a1d04f21",
   "metadata": {},
   "source": [
    "# concat and merge"
   ]
  },
  {
   "cell_type": "code",
   "execution_count": 109,
   "id": "6b032690",
   "metadata": {},
   "outputs": [
    {
     "data": {
      "text/plain": [
       "array([[1, 2, 3],\n",
       "       [6, 7, 8],\n",
       "       [6, 5, 3],\n",
       "       [3, 2, 1],\n",
       "       [5, 6, 7],\n",
       "       [3, 4, 9]])"
      ]
     },
     "execution_count": 109,
     "metadata": {},
     "output_type": "execute_result"
    }
   ],
   "source": [
    "a=np.array([[1,2,3],[6,7,8],[6,5,3]])\n",
    "b=np.array([[3,2,1],[5,6,7],[3,4,9]])\n",
    "np.concatenate((a,b)) #by default column wise"
   ]
  },
  {
   "cell_type": "code",
   "execution_count": 110,
   "id": "7920241e",
   "metadata": {},
   "outputs": [
    {
     "data": {
      "text/plain": [
       "array([[1, 2, 3, 3, 2, 1],\n",
       "       [6, 7, 8, 5, 6, 7],\n",
       "       [6, 5, 3, 3, 4, 9]])"
      ]
     },
     "execution_count": 110,
     "metadata": {},
     "output_type": "execute_result"
    }
   ],
   "source": [
    "np.concatenate((a,b),axis=1) #row wise"
   ]
  },
  {
   "cell_type": "code",
   "execution_count": 111,
   "id": "ac9c553e",
   "metadata": {},
   "outputs": [
    {
     "data": {
      "text/plain": [
       "array([[1, 2, 3],\n",
       "       [6, 7, 8],\n",
       "       [6, 5, 3],\n",
       "       [3, 2, 1],\n",
       "       [5, 6, 7],\n",
       "       [3, 4, 9]])"
      ]
     },
     "execution_count": 111,
     "metadata": {},
     "output_type": "execute_result"
    }
   ],
   "source": [
    "np.concatenate((a,b),axis=0)"
   ]
  },
  {
   "cell_type": "code",
   "execution_count": 117,
   "id": "d09cfe50",
   "metadata": {},
   "outputs": [
    {
     "data": {
      "text/plain": [
       "array([[[1, 2, 3],\n",
       "        [6, 7, 8],\n",
       "        [6, 5, 3]],\n",
       "\n",
       "       [[3, 2, 1],\n",
       "        [5, 6, 7],\n",
       "        [3, 4, 9]]])"
      ]
     },
     "execution_count": 117,
     "metadata": {},
     "output_type": "execute_result"
    }
   ],
   "source": [
    "c=np.c_[[a,b]]\n",
    "c"
   ]
  },
  {
   "cell_type": "code",
   "execution_count": 118,
   "id": "476f49fb",
   "metadata": {},
   "outputs": [
    {
     "data": {
      "text/plain": [
       "(2, 3, 3)"
      ]
     },
     "execution_count": 118,
     "metadata": {},
     "output_type": "execute_result"
    }
   ],
   "source": [
    "c.shape"
   ]
  },
  {
   "cell_type": "code",
   "execution_count": 122,
   "id": "bf9bf5da",
   "metadata": {},
   "outputs": [
    {
     "data": {
      "text/plain": [
       "array([[1, 2, 3, 3, 2, 1],\n",
       "       [6, 7, 8, 5, 6, 7],\n",
       "       [6, 5, 3, 3, 4, 9]])"
      ]
     },
     "execution_count": 122,
     "metadata": {},
     "output_type": "execute_result"
    }
   ],
   "source": [
    "np.hstack((a,b))  #horizontal merge"
   ]
  },
  {
   "cell_type": "code",
   "execution_count": 123,
   "id": "c7b3fc64",
   "metadata": {},
   "outputs": [
    {
     "data": {
      "text/plain": [
       "array([[1, 2, 3],\n",
       "       [6, 7, 8],\n",
       "       [6, 5, 3],\n",
       "       [3, 2, 1],\n",
       "       [5, 6, 7],\n",
       "       [3, 4, 9]])"
      ]
     },
     "execution_count": 123,
     "metadata": {},
     "output_type": "execute_result"
    }
   ],
   "source": [
    "np.vstack((a,b))  #vertical merge"
   ]
  },
  {
   "cell_type": "code",
   "execution_count": 130,
   "id": "7ac70657",
   "metadata": {},
   "outputs": [
    {
     "data": {
      "text/plain": [
       "array('maheshsingh', dtype='<U11')"
      ]
     },
     "execution_count": 130,
     "metadata": {},
     "output_type": "execute_result"
    }
   ],
   "source": [
    "from numpy import char\n",
    "first_name=\"mahesh\"\n",
    "last_name=\"singh\"\n",
    "char.add(first_name,last_name)\n"
   ]
  },
  {
   "cell_type": "code",
   "execution_count": 132,
   "id": "c06970d6",
   "metadata": {},
   "outputs": [
    {
     "data": {
      "text/plain": [
       "['__all__',\n",
       " '__builtins__',\n",
       " '__cached__',\n",
       " '__doc__',\n",
       " '__file__',\n",
       " '__loader__',\n",
       " '__name__',\n",
       " '__package__',\n",
       " '__spec__',\n",
       " '_binary_op_dispatcher',\n",
       " '_center_dispatcher',\n",
       " '_clean_args',\n",
       " '_code_dispatcher',\n",
       " '_count_dispatcher',\n",
       " '_endswith_dispatcher',\n",
       " '_expandtabs_dispatcher',\n",
       " '_get_num_chars',\n",
       " '_globalvar',\n",
       " '_join_dispatcher',\n",
       " '_just_dispatcher',\n",
       " '_mod_dispatcher',\n",
       " '_multiply_dispatcher',\n",
       " '_partition_dispatcher',\n",
       " '_replace_dispatcher',\n",
       " '_split_dispatcher',\n",
       " '_splitlines_dispatcher',\n",
       " '_startswith_dispatcher',\n",
       " '_strip_dispatcher',\n",
       " '_to_string_or_unicode_array',\n",
       " '_translate_dispatcher',\n",
       " '_unary_op_dispatcher',\n",
       " '_use_unicode',\n",
       " '_vec_string',\n",
       " '_zfill_dispatcher',\n",
       " 'add',\n",
       " 'array',\n",
       " 'array_function_dispatch',\n",
       " 'asarray',\n",
       " 'asbytes',\n",
       " 'bool_',\n",
       " 'capitalize',\n",
       " 'center',\n",
       " 'character',\n",
       " 'chararray',\n",
       " 'compare_chararrays',\n",
       " 'count',\n",
       " 'decode',\n",
       " 'encode',\n",
       " 'endswith',\n",
       " 'equal',\n",
       " 'expandtabs',\n",
       " 'find',\n",
       " 'functools',\n",
       " 'greater',\n",
       " 'greater_equal',\n",
       " 'index',\n",
       " 'int_',\n",
       " 'integer',\n",
       " 'isalnum',\n",
       " 'isalpha',\n",
       " 'isdecimal',\n",
       " 'isdigit',\n",
       " 'islower',\n",
       " 'isnumeric',\n",
       " 'isspace',\n",
       " 'istitle',\n",
       " 'isupper',\n",
       " 'join',\n",
       " 'less',\n",
       " 'less_equal',\n",
       " 'ljust',\n",
       " 'lower',\n",
       " 'lstrip',\n",
       " 'mod',\n",
       " 'multiply',\n",
       " 'narray',\n",
       " 'ndarray',\n",
       " 'not_equal',\n",
       " 'numpy',\n",
       " 'object_',\n",
       " 'overrides',\n",
       " 'partition',\n",
       " 'replace',\n",
       " 'rfind',\n",
       " 'rindex',\n",
       " 'rjust',\n",
       " 'rpartition',\n",
       " 'rsplit',\n",
       " 'rstrip',\n",
       " 'set_module',\n",
       " 'split',\n",
       " 'splitlines',\n",
       " 'startswith',\n",
       " 'str_len',\n",
       " 'string_',\n",
       " 'strip',\n",
       " 'swapcase',\n",
       " 'sys',\n",
       " 'title',\n",
       " 'translate',\n",
       " 'unicode_',\n",
       " 'upper',\n",
       " 'zfill']"
      ]
     },
     "execution_count": 132,
     "metadata": {},
     "output_type": "execute_result"
    }
   ],
   "source": [
    "dir(np.char) #these are operations "
   ]
  },
  {
   "cell_type": "code",
   "execution_count": 133,
   "id": "c2f12fcf",
   "metadata": {},
   "outputs": [
    {
     "data": {
      "text/plain": [
       "array('MAHESH', dtype='<U6')"
      ]
     },
     "execution_count": 133,
     "metadata": {},
     "output_type": "execute_result"
    }
   ],
   "source": [
    "char.upper(first_name)"
   ]
  },
  {
   "cell_type": "code",
   "execution_count": 134,
   "id": "beb85305",
   "metadata": {},
   "outputs": [
    {
     "data": {
      "text/plain": [
       "array('mahesh', dtype='<U6')"
      ]
     },
     "execution_count": 134,
     "metadata": {},
     "output_type": "execute_result"
    }
   ],
   "source": [
    "char.lower(first_name)"
   ]
  },
  {
   "cell_type": "code",
   "execution_count": 135,
   "id": "3ab0c354",
   "metadata": {},
   "outputs": [
    {
     "data": {
      "text/plain": [
       "array('Mahesh', dtype='<U6')"
      ]
     },
     "execution_count": 135,
     "metadata": {},
     "output_type": "execute_result"
    }
   ],
   "source": [
    "char.capitalize(first_name)"
   ]
  },
  {
   "cell_type": "code",
   "execution_count": 137,
   "id": "4d387dc9",
   "metadata": {},
   "outputs": [
    {
     "data": {
      "text/plain": [
       "array(2)"
      ]
     },
     "execution_count": 137,
     "metadata": {},
     "output_type": "execute_result"
    }
   ],
   "source": [
    "char.find(first_name,'h') #return position of char"
   ]
  },
  {
   "cell_type": "code",
   "execution_count": 138,
   "id": "2f1f6d16",
   "metadata": {},
   "outputs": [
    {
     "data": {
      "text/plain": [
       "array(True)"
      ]
     },
     "execution_count": 138,
     "metadata": {},
     "output_type": "execute_result"
    }
   ],
   "source": [
    "char.isalnum(first_name)"
   ]
  },
  {
   "cell_type": "code",
   "execution_count": 139,
   "id": "ed76a58c",
   "metadata": {},
   "outputs": [
    {
     "data": {
      "text/plain": [
       "array(True)"
      ]
     },
     "execution_count": 139,
     "metadata": {},
     "output_type": "execute_result"
    }
   ],
   "source": [
    "char.islower(first_name)"
   ]
  },
  {
   "cell_type": "code",
   "execution_count": 140,
   "id": "f42a99fc",
   "metadata": {},
   "outputs": [
    {
     "data": {
      "text/plain": [
       "array(False)"
      ]
     },
     "execution_count": 140,
     "metadata": {},
     "output_type": "execute_result"
    }
   ],
   "source": [
    "char.isupper(first_name)"
   ]
  },
  {
   "cell_type": "code",
   "execution_count": 141,
   "id": "51a694a1",
   "metadata": {},
   "outputs": [
    {
     "data": {
      "text/plain": [
       "array(True)"
      ]
     },
     "execution_count": 141,
     "metadata": {},
     "output_type": "execute_result"
    }
   ],
   "source": [
    "char.isalpha(first_name)"
   ]
  },
  {
   "cell_type": "code",
   "execution_count": 142,
   "id": "7eb38b3d",
   "metadata": {},
   "outputs": [
    {
     "data": {
      "text/plain": [
       "array(False)"
      ]
     },
     "execution_count": 142,
     "metadata": {},
     "output_type": "execute_result"
    }
   ],
   "source": [
    "char.isdigit(first_name)"
   ]
  },
  {
   "cell_type": "markdown",
   "id": "1888b6fd",
   "metadata": {},
   "source": [
    "# Slicing "
   ]
  },
  {
   "cell_type": "code",
   "execution_count": 150,
   "id": "9146bd4c",
   "metadata": {},
   "outputs": [
    {
     "data": {
      "text/plain": [
       "array([[1, 2, 3],\n",
       "       [6, 7, 8],\n",
       "       [6, 5, 3]])"
      ]
     },
     "execution_count": 150,
     "metadata": {},
     "output_type": "execute_result"
    }
   ],
   "source": [
    "a"
   ]
  },
  {
   "cell_type": "code",
   "execution_count": 151,
   "id": "0af65187",
   "metadata": {},
   "outputs": [
    {
     "data": {
      "text/plain": [
       "array([[1, 2, 3],\n",
       "       [6, 7, 8],\n",
       "       [6, 5, 3]])"
      ]
     },
     "execution_count": 151,
     "metadata": {},
     "output_type": "execute_result"
    }
   ],
   "source": [
    "a[:] #all elements"
   ]
  },
  {
   "cell_type": "code",
   "execution_count": 153,
   "id": "1f4c4ebf",
   "metadata": {},
   "outputs": [
    {
     "data": {
      "text/plain": [
       "3"
      ]
     },
     "execution_count": 153,
     "metadata": {},
     "output_type": "execute_result"
    }
   ],
   "source": [
    "a[2,2]"
   ]
  },
  {
   "cell_type": "code",
   "execution_count": 155,
   "id": "5f30c1fb",
   "metadata": {},
   "outputs": [
    {
     "data": {
      "text/plain": [
       "array([[6, 5, 3]])"
      ]
     },
     "execution_count": 155,
     "metadata": {},
     "output_type": "execute_result"
    }
   ],
   "source": [
    "a[2:3,]"
   ]
  },
  {
   "cell_type": "code",
   "execution_count": 156,
   "id": "05a8ad8d",
   "metadata": {},
   "outputs": [
    {
     "data": {
      "text/plain": [
       "array([[6, 7, 8],\n",
       "       [6, 5, 3]])"
      ]
     },
     "execution_count": 156,
     "metadata": {},
     "output_type": "execute_result"
    }
   ],
   "source": [
    "a[1:3,]"
   ]
  },
  {
   "cell_type": "code",
   "execution_count": 157,
   "id": "b164dddd",
   "metadata": {},
   "outputs": [
    {
     "data": {
      "text/plain": [
       "array([[1, 2, 3],\n",
       "       [6, 7, 8],\n",
       "       [6, 5, 3]])"
      ]
     },
     "execution_count": 157,
     "metadata": {},
     "output_type": "execute_result"
    }
   ],
   "source": [
    "a"
   ]
  },
  {
   "cell_type": "code",
   "execution_count": 159,
   "id": "d4906df8",
   "metadata": {},
   "outputs": [
    {
     "data": {
      "text/plain": [
       "array([[1, 6, 6],\n",
       "       [2, 7, 5],\n",
       "       [3, 8, 3]])"
      ]
     },
     "execution_count": 159,
     "metadata": {},
     "output_type": "execute_result"
    }
   ],
   "source": [
    "#tanspose of matrix\n",
    "a.T"
   ]
  },
  {
   "cell_type": "code",
   "execution_count": 160,
   "id": "b8d74972",
   "metadata": {},
   "outputs": [
    {
     "data": {
      "text/plain": [
       "array([[1, 6, 6],\n",
       "       [2, 7, 5],\n",
       "       [3, 8, 3]])"
      ]
     },
     "execution_count": 160,
     "metadata": {},
     "output_type": "execute_result"
    }
   ],
   "source": [
    "np.transpose(a)"
   ]
  },
  {
   "cell_type": "code",
   "execution_count": 161,
   "id": "ce4a09fa",
   "metadata": {},
   "outputs": [
    {
     "data": {
      "text/plain": [
       "11"
      ]
     },
     "execution_count": 161,
     "metadata": {},
     "output_type": "execute_result"
    }
   ],
   "source": [
    "np.trace(a) #sum of diagonals"
   ]
  },
  {
   "cell_type": "markdown",
   "id": "7b23d460",
   "metadata": {},
   "source": [
    "#  Random in numpy"
   ]
  },
  {
   "cell_type": "code",
   "execution_count": 162,
   "id": "eb17a3bc",
   "metadata": {},
   "outputs": [],
   "source": [
    "import random"
   ]
  },
  {
   "cell_type": "code",
   "execution_count": 164,
   "id": "007b0ebe",
   "metadata": {},
   "outputs": [
    {
     "data": {
      "text/plain": [
       "array([0.417792  , 0.9597082 , 0.17430848])"
      ]
     },
     "execution_count": 164,
     "metadata": {},
     "output_type": "execute_result"
    }
   ],
   "source": [
    "a=np.random.random(3)\n",
    "a"
   ]
  },
  {
   "cell_type": "code",
   "execution_count": 167,
   "id": "d2324d2d",
   "metadata": {},
   "outputs": [
    {
     "data": {
      "text/plain": [
       "array([[2.94441116e-01, 9.73768604e-01, 2.28813140e-01],\n",
       "       [5.69200583e-01, 2.78988226e-01, 2.01995251e-01],\n",
       "       [3.35745690e-01, 9.88357938e-01, 8.36779992e-04]])"
      ]
     },
     "execution_count": 167,
     "metadata": {},
     "output_type": "execute_result"
    }
   ],
   "source": [
    "a=np.random.random((3,3))\n",
    "a"
   ]
  },
  {
   "cell_type": "code",
   "execution_count": 171,
   "id": "4138644b",
   "metadata": {},
   "outputs": [
    {
     "data": {
      "text/plain": [
       "array([5, 2, 7])"
      ]
     },
     "execution_count": 171,
     "metadata": {},
     "output_type": "execute_result"
    }
   ],
   "source": [
    "a=np.random.randint(1,10,3) #randint(min_value,max_val,no_of_elements)\n",
    "a"
   ]
  },
  {
   "cell_type": "code",
   "execution_count": 172,
   "id": "8026ff11",
   "metadata": {},
   "outputs": [
    {
     "data": {
      "text/plain": [
       "array([[6, 7, 7],\n",
       "       [5, 1, 1],\n",
       "       [9, 6, 3]])"
      ]
     },
     "execution_count": 172,
     "metadata": {},
     "output_type": "execute_result"
    }
   ],
   "source": [
    "a=np.random.randint(1,10,(3,3)) #randint(min_value,max_val,no_of_elements)\n",
    "a"
   ]
  },
  {
   "cell_type": "code",
   "execution_count": 174,
   "id": "d5b27347",
   "metadata": {},
   "outputs": [
    {
     "data": {
      "text/plain": [
       "array([0.62496134, 0.76659947, 0.12458646])"
      ]
     },
     "execution_count": 174,
     "metadata": {},
     "output_type": "execute_result"
    }
   ],
   "source": [
    "a=np.random.rand(3)\n",
    "a"
   ]
  },
  {
   "cell_type": "code",
   "execution_count": 176,
   "id": "c5297c02",
   "metadata": {},
   "outputs": [
    {
     "data": {
      "text/plain": [
       "array([[0.04006981, 0.20392461, 0.63816471],\n",
       "       [0.59441977, 0.44117476, 0.07208661],\n",
       "       [0.97266375, 0.12983266, 0.69411358]])"
      ]
     },
     "execution_count": 176,
     "metadata": {},
     "output_type": "execute_result"
    }
   ],
   "source": [
    "a=np.random.rand(3,3)\n",
    "a"
   ]
  },
  {
   "cell_type": "code",
   "execution_count": 177,
   "id": "2911b099",
   "metadata": {},
   "outputs": [
    {
     "data": {
      "text/plain": [
       "array([[0.77132064, 0.02075195, 0.63364823],\n",
       "       [0.74880388, 0.49850701, 0.22479665],\n",
       "       [0.19806286, 0.76053071, 0.16911084]])"
      ]
     },
     "execution_count": 177,
     "metadata": {},
     "output_type": "execute_result"
    }
   ],
   "source": [
    "np.random.seed(10) #fixed the number in random \n",
    "a=np.random.rand(3,3)\n",
    "a"
   ]
  },
  {
   "cell_type": "code",
   "execution_count": 178,
   "id": "fad57f21",
   "metadata": {},
   "outputs": [
    {
     "data": {
      "text/plain": [
       "array([[0.77132064, 0.02075195, 0.63364823],\n",
       "       [0.74880388, 0.49850701, 0.22479665],\n",
       "       [0.19806286, 0.76053071, 0.16911084]])"
      ]
     },
     "execution_count": 178,
     "metadata": {},
     "output_type": "execute_result"
    }
   ],
   "source": [
    "a"
   ]
  },
  {
   "cell_type": "code",
   "execution_count": 179,
   "id": "75cb4ed4",
   "metadata": {},
   "outputs": [
    {
     "data": {
      "text/plain": [
       "array([[0.77132064, 0.02075195, 0.63364823],\n",
       "       [0.74880388, 0.49850701, 0.22479665],\n",
       "       [0.19806286, 0.76053071, 0.16911084]])"
      ]
     },
     "execution_count": 179,
     "metadata": {},
     "output_type": "execute_result"
    }
   ],
   "source": [
    "a"
   ]
  },
  {
   "cell_type": "code",
   "execution_count": 186,
   "id": "a6ba79c1",
   "metadata": {},
   "outputs": [
    {
     "data": {
      "text/plain": [
       "array([[-0.33265382,  0.02295053,  0.0554339 ,  0.36275798,  0.29685105,\n",
       "         1.40695393,  0.22088226,  0.98991437, -0.77140026,  0.45838448],\n",
       "       [ 1.76362535, -0.65081256, -0.14268551, -0.93410474,  0.02656647,\n",
       "        -1.27071252,  0.29620639,  1.36476673, -1.30427581,  0.38600302],\n",
       "       [-1.75898506, -0.55055907,  1.63862557, -0.31382041, -2.08691585,\n",
       "         1.04077324,  0.33042592, -0.32423852,  1.3509555 ,  0.47331997],\n",
       "       [ 0.32059671,  1.08305228,  0.5372567 ,  1.30469825, -0.16578412,\n",
       "        -1.29458945, -2.75860974,  2.26548475, -0.31946926,  0.33833142],\n",
       "       [-0.29545257,  1.6557678 , -0.96330814, -0.2088667 , -0.68619642,\n",
       "        -0.27309799, -0.40506969,  0.20672388,  0.34427065, -1.37215867],\n",
       "       [ 0.979461  , -1.2967198 , -0.55064676,  1.12348185, -0.49411903,\n",
       "         1.32066894, -0.31387981,  0.98649149,  0.72101121, -0.53122744],\n",
       "       [ 0.05561497,  1.72958494, -1.18899192,  0.59830942,  0.80256595,\n",
       "        -0.40177066, -0.10296417, -0.18296753, -0.08712187,  0.85484213],\n",
       "       [ 0.24269165, -0.28959963, -0.33899129, -0.06880809, -0.4396162 ,\n",
       "         0.69501598, -0.93446509,  1.35481799,  0.47683236,  0.40722114],\n",
       "       [ 2.35317471,  1.51925986, -0.29646605, -0.91463494,  0.43245786,\n",
       "        -2.74910784, -0.32554195,  0.63834798,  1.2994119 , -0.45883715],\n",
       "       [-1.25504271, -0.34936824,  0.24093259,  1.18341287,  0.56682536,\n",
       "        -1.34028558,  1.18058023, -0.51458875,  1.12954814,  0.44856744]])"
      ]
     },
     "execution_count": 186,
     "metadata": {},
     "output_type": "execute_result"
    }
   ],
   "source": [
    "a=np.random.randn(10,10)\n",
    "a"
   ]
  },
  {
   "cell_type": "code",
   "execution_count": 190,
   "id": "a5f10330",
   "metadata": {},
   "outputs": [
    {
     "data": {
      "text/plain": [
       "array([142.06530445, 957.37954309, 872.78411392, 845.11285817,\n",
       "       967.51047055, 639.04280417, 937.82425226, 232.09193285,\n",
       "       202.56427788, 434.82601196])"
      ]
     },
     "execution_count": 190,
     "metadata": {},
     "output_type": "execute_result"
    }
   ],
   "source": [
    "np.random.uniform(100,1000,10)  #uniform distribution"
   ]
  },
  {
   "cell_type": "code",
   "execution_count": 194,
   "id": "e212c42e",
   "metadata": {},
   "outputs": [
    {
     "data": {
      "text/plain": [
       "array([[ 0.08413956, -0.58445516,  0.60202227],\n",
       "       [ 0.43836524, -0.78234319,  0.19293598],\n",
       "       [ 0.00402491, -0.16407529, -1.14881226]])"
      ]
     },
     "execution_count": 194,
     "metadata": {},
     "output_type": "execute_result"
    }
   ],
   "source": [
    "x=np.random.normal(0,1,(3,3))  #normal distribution\n",
    "x"
   ]
  },
  {
   "cell_type": "code",
   "execution_count": 195,
   "id": "377a74f4",
   "metadata": {},
   "outputs": [
    {
     "data": {
      "text/plain": [
       "[<matplotlib.lines.Line2D at 0x16869314e80>,\n",
       " <matplotlib.lines.Line2D at 0x16869fe1790>,\n",
       " <matplotlib.lines.Line2D at 0x168691779a0>]"
      ]
     },
     "execution_count": 195,
     "metadata": {},
     "output_type": "execute_result"
    },
    {
     "data": {
      "image/png": "[encoded data removed]",
      "text/plain": [
       "<Figure size 432x288 with 1 Axes>"
      ]
     },
     "metadata": {
      "needs_background": "light"
     },
     "output_type": "display_data"
    }
   ],
   "source": [
    "plt.plot(x)"
   ]
  },
  {
   "cell_type": "code",
   "execution_count": null,
   "id": "77292a8d",
   "metadata": {},
   "outputs": [],
   "source": []
  }
 ],
 "metadata": {
  "kernelspec": {
   "display_name": "Python 3",
   "language": "python",
   "name": "python3"
  },
  "language_info": {
   "codemirror_mode": {
    "name": "ipython",
    "version": 3
   },
   "file_extension": ".py",
   "mimetype": "text/x-python",
   "name": "python",
   "nbconvert_exporter": "python",
   "pygments_lexer": "ipython3",
   "version": "3.8.8"
  }
 },
 "nbformat": 4,
 "nbformat_minor": 5
}
